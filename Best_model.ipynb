{
 "cells": [
  {
   "cell_type": "markdown",
   "metadata": {},
   "source": [
    "# Personalized Cancer Diagnosis"
   ]
  },
  {
   "cell_type": "markdown",
   "metadata": {},
   "source": [
    "## Description"
   ]
  },
  {
   "cell_type": "markdown",
   "metadata": {},
   "source": [
    "### Data Description"
   ]
  },
  {
   "cell_type": "markdown",
   "metadata": {},
   "source": [
    "- Source: https://www.kaggle.com/c/msk-redefining-cancer-treatment/data\n",
    "- We have two data files: one conatins the information about the genetic mutations and the other contains the clinical evidence (text) that  human experts/pathologists use to classify the genetic mutations. \n",
    "- Both these data files are have a common column called ID\n",
    "- <p> \n",
    "    Data file's information:\n",
    "    <ul> \n",
    "        <li>\n",
    "        training_variants (ID , Gene, Variations, Class)\n",
    "        </li>\n",
    "        <li>\n",
    "        training_text (ID, Text)\n",
    "        </li>\n",
    "    </ul>\n",
    "</p>"
   ]
  },
  {
   "cell_type": "markdown",
   "metadata": {},
   "source": [
    "###  objectives and constraints"
   ]
  },
  {
   "cell_type": "markdown",
   "metadata": {},
   "source": [
    "* No low-latency requirement.\n",
    "* Errors are costly.\n",
    "* We have to interpret results.\n",
    "* Probabilities for each class is required."
   ]
  },
  {
   "cell_type": "markdown",
   "metadata": {},
   "source": [
    "## Preprocessing"
   ]
  },
  {
   "cell_type": "code",
   "execution_count": 1,
   "metadata": {
    "ExecuteTime": {
     "end_time": "2018-10-30T11:01:12.824072Z",
     "start_time": "2018-10-30T11:01:11.935322Z"
    }
   },
   "outputs": [],
   "source": [
    "import warnings\n",
    "warnings.filterwarnings(\"ignore\")\n",
    "\n",
    "import numpy as np\n",
    "import pandas as pd \n",
    "import matplotlib.pyplot as plt\n",
    "import seaborn as sns\n",
    "import re\n",
    "from nltk.corpus import stopwords\n",
    "from tqdm import tqdm"
   ]
  },
  {
   "cell_type": "markdown",
   "metadata": {},
   "source": [
    "### Reading Data"
   ]
  },
  {
   "cell_type": "code",
   "execution_count": 2,
   "metadata": {
    "ExecuteTime": {
     "end_time": "2018-10-30T11:01:13.972829Z",
     "start_time": "2018-10-30T11:01:12.826203Z"
    }
   },
   "outputs": [
    {
     "name": "stdout",
     "output_type": "stream",
     "text": [
      "Number of data points :  3321\n",
      "Number of features :  4\n",
      "Features :  ['ID' 'Gene' 'Variation' 'Class']\n"
     ]
    },
    {
     "data": {
      "text/html": [
       "<div>\n",
       "<style scoped>\n",
       "    .dataframe tbody tr th:only-of-type {\n",
       "        vertical-align: middle;\n",
       "    }\n",
       "\n",
       "    .dataframe tbody tr th {\n",
       "        vertical-align: top;\n",
       "    }\n",
       "\n",
       "    .dataframe thead th {\n",
       "        text-align: right;\n",
       "    }\n",
       "</style>\n",
       "<table border=\"1\" class=\"dataframe\">\n",
       "  <thead>\n",
       "    <tr style=\"text-align: right;\">\n",
       "      <th></th>\n",
       "      <th>ID</th>\n",
       "      <th>Gene</th>\n",
       "      <th>Variation</th>\n",
       "      <th>Class</th>\n",
       "    </tr>\n",
       "  </thead>\n",
       "  <tbody>\n",
       "    <tr>\n",
       "      <th>0</th>\n",
       "      <td>0</td>\n",
       "      <td>FAM58A</td>\n",
       "      <td>Truncating Mutations</td>\n",
       "      <td>1</td>\n",
       "    </tr>\n",
       "    <tr>\n",
       "      <th>1</th>\n",
       "      <td>1</td>\n",
       "      <td>CBL</td>\n",
       "      <td>W802*</td>\n",
       "      <td>2</td>\n",
       "    </tr>\n",
       "    <tr>\n",
       "      <th>2</th>\n",
       "      <td>2</td>\n",
       "      <td>CBL</td>\n",
       "      <td>Q249E</td>\n",
       "      <td>2</td>\n",
       "    </tr>\n",
       "    <tr>\n",
       "      <th>3</th>\n",
       "      <td>3</td>\n",
       "      <td>CBL</td>\n",
       "      <td>N454D</td>\n",
       "      <td>3</td>\n",
       "    </tr>\n",
       "    <tr>\n",
       "      <th>4</th>\n",
       "      <td>4</td>\n",
       "      <td>CBL</td>\n",
       "      <td>L399V</td>\n",
       "      <td>4</td>\n",
       "    </tr>\n",
       "  </tbody>\n",
       "</table>\n",
       "</div>"
      ],
      "text/plain": [
       "   ID    Gene             Variation  Class\n",
       "0   0  FAM58A  Truncating Mutations      1\n",
       "1   1     CBL                 W802*      2\n",
       "2   2     CBL                 Q249E      2\n",
       "3   3     CBL                 N454D      3\n",
       "4   4     CBL                 L399V      4"
      ]
     },
     "execution_count": 2,
     "metadata": {},
     "output_type": "execute_result"
    }
   ],
   "source": [
    "data = pd.read_csv('Data/training_variants')\n",
    "print('Number of data points : ', data.shape[0])\n",
    "print('Number of features : ', data.shape[1])\n",
    "print('Features : ', data.columns.values)\n",
    "data.head()"
   ]
  },
  {
   "cell_type": "markdown",
   "metadata": {},
   "source": [
    "* **ID** : Case ID\n",
    "* **Gene** : The Gene where genetic mutation is located.\n",
    "* **Variation** : Amino acid change for this mutation.\n",
    "* **Class** : To the class in which this genetic mutation has been classified."
   ]
  },
  {
   "cell_type": "code",
   "execution_count": 3,
   "metadata": {
    "ExecuteTime": {
     "end_time": "2018-10-30T11:01:16.702786Z",
     "start_time": "2018-10-30T11:01:13.975589Z"
    }
   },
   "outputs": [
    {
     "name": "stdout",
     "output_type": "stream",
     "text": [
      "Number of data points :  3321\n",
      "Number of features :  2\n",
      "Features :  ['ID' 'TEXT']\n"
     ]
    },
    {
     "data": {
      "text/html": [
       "<div>\n",
       "<style scoped>\n",
       "    .dataframe tbody tr th:only-of-type {\n",
       "        vertical-align: middle;\n",
       "    }\n",
       "\n",
       "    .dataframe tbody tr th {\n",
       "        vertical-align: top;\n",
       "    }\n",
       "\n",
       "    .dataframe thead th {\n",
       "        text-align: right;\n",
       "    }\n",
       "</style>\n",
       "<table border=\"1\" class=\"dataframe\">\n",
       "  <thead>\n",
       "    <tr style=\"text-align: right;\">\n",
       "      <th></th>\n",
       "      <th>ID</th>\n",
       "      <th>TEXT</th>\n",
       "    </tr>\n",
       "  </thead>\n",
       "  <tbody>\n",
       "    <tr>\n",
       "      <th>0</th>\n",
       "      <td>0</td>\n",
       "      <td>Cyclin-dependent kinases (CDKs) regulate a var...</td>\n",
       "    </tr>\n",
       "    <tr>\n",
       "      <th>1</th>\n",
       "      <td>1</td>\n",
       "      <td>Abstract Background  Non-small cell lung canc...</td>\n",
       "    </tr>\n",
       "    <tr>\n",
       "      <th>2</th>\n",
       "      <td>2</td>\n",
       "      <td>Abstract Background  Non-small cell lung canc...</td>\n",
       "    </tr>\n",
       "    <tr>\n",
       "      <th>3</th>\n",
       "      <td>3</td>\n",
       "      <td>Recent evidence has demonstrated that acquired...</td>\n",
       "    </tr>\n",
       "    <tr>\n",
       "      <th>4</th>\n",
       "      <td>4</td>\n",
       "      <td>Oncogenic mutations in the monomeric Casitas B...</td>\n",
       "    </tr>\n",
       "  </tbody>\n",
       "</table>\n",
       "</div>"
      ],
      "text/plain": [
       "   ID                                               TEXT\n",
       "0   0  Cyclin-dependent kinases (CDKs) regulate a var...\n",
       "1   1   Abstract Background  Non-small cell lung canc...\n",
       "2   2   Abstract Background  Non-small cell lung canc...\n",
       "3   3  Recent evidence has demonstrated that acquired...\n",
       "4   4  Oncogenic mutations in the monomeric Casitas B..."
      ]
     },
     "execution_count": 3,
     "metadata": {},
     "output_type": "execute_result"
    }
   ],
   "source": [
    "# note the seprator in this file\n",
    "data_text =pd.read_csv(\"Data/training_text\",sep=\"\\|\\|\",engine=\"python\",names=[\"ID\",\"TEXT\"],skiprows=1)\n",
    "print('Number of data points : ', data_text.shape[0])\n",
    "print('Number of features : ', data_text.shape[1])\n",
    "print('Features : ', data_text.columns.values)\n",
    "data_text.head()"
   ]
  },
  {
   "cell_type": "markdown",
   "metadata": {},
   "source": [
    "* **ID** : Case ID\n",
    "* **Text** : Clinical observation of genetic mutation."
   ]
  },
  {
   "cell_type": "code",
   "execution_count": 4,
   "metadata": {
    "ExecuteTime": {
     "end_time": "2018-10-30T11:01:17.107356Z",
     "start_time": "2018-10-30T11:01:16.705500Z"
    }
   },
   "outputs": [
    {
     "data": {
      "text/html": [
       "<div>\n",
       "<style scoped>\n",
       "    .dataframe tbody tr th:only-of-type {\n",
       "        vertical-align: middle;\n",
       "    }\n",
       "\n",
       "    .dataframe tbody tr th {\n",
       "        vertical-align: top;\n",
       "    }\n",
       "\n",
       "    .dataframe thead th {\n",
       "        text-align: right;\n",
       "    }\n",
       "</style>\n",
       "<table border=\"1\" class=\"dataframe\">\n",
       "  <thead>\n",
       "    <tr style=\"text-align: right;\">\n",
       "      <th></th>\n",
       "      <th>ID</th>\n",
       "      <th>Gene</th>\n",
       "      <th>Variation</th>\n",
       "      <th>Class</th>\n",
       "      <th>TEXT</th>\n",
       "    </tr>\n",
       "  </thead>\n",
       "  <tbody>\n",
       "    <tr>\n",
       "      <th>0</th>\n",
       "      <td>0</td>\n",
       "      <td>FAM58A</td>\n",
       "      <td>Truncating Mutations</td>\n",
       "      <td>1</td>\n",
       "      <td>Cyclin-dependent kinases (CDKs) regulate a var...</td>\n",
       "    </tr>\n",
       "    <tr>\n",
       "      <th>1</th>\n",
       "      <td>1</td>\n",
       "      <td>CBL</td>\n",
       "      <td>W802*</td>\n",
       "      <td>2</td>\n",
       "      <td>Abstract Background  Non-small cell lung canc...</td>\n",
       "    </tr>\n",
       "    <tr>\n",
       "      <th>2</th>\n",
       "      <td>2</td>\n",
       "      <td>CBL</td>\n",
       "      <td>Q249E</td>\n",
       "      <td>2</td>\n",
       "      <td>Abstract Background  Non-small cell lung canc...</td>\n",
       "    </tr>\n",
       "    <tr>\n",
       "      <th>3</th>\n",
       "      <td>3</td>\n",
       "      <td>CBL</td>\n",
       "      <td>N454D</td>\n",
       "      <td>3</td>\n",
       "      <td>Recent evidence has demonstrated that acquired...</td>\n",
       "    </tr>\n",
       "    <tr>\n",
       "      <th>4</th>\n",
       "      <td>4</td>\n",
       "      <td>CBL</td>\n",
       "      <td>L399V</td>\n",
       "      <td>4</td>\n",
       "      <td>Oncogenic mutations in the monomeric Casitas B...</td>\n",
       "    </tr>\n",
       "  </tbody>\n",
       "</table>\n",
       "</div>"
      ],
      "text/plain": [
       "   ID    Gene             Variation  Class  \\\n",
       "0   0  FAM58A  Truncating Mutations      1   \n",
       "1   1     CBL                 W802*      2   \n",
       "2   2     CBL                 Q249E      2   \n",
       "3   3     CBL                 N454D      3   \n",
       "4   4     CBL                 L399V      4   \n",
       "\n",
       "                                                TEXT  \n",
       "0  Cyclin-dependent kinases (CDKs) regulate a var...  \n",
       "1   Abstract Background  Non-small cell lung canc...  \n",
       "2   Abstract Background  Non-small cell lung canc...  \n",
       "3  Recent evidence has demonstrated that acquired...  \n",
       "4  Oncogenic mutations in the monomeric Casitas B...  "
      ]
     },
     "execution_count": 4,
     "metadata": {},
     "output_type": "execute_result"
    }
   ],
   "source": [
    "# combaining above both\n",
    "data = pd.merge(data, data_text, on='ID', how='left')\n",
    "data.head()"
   ]
  },
  {
   "cell_type": "markdown",
   "metadata": {},
   "source": [
    "### Text Preprocessing"
   ]
  },
  {
   "cell_type": "code",
   "execution_count": 5,
   "metadata": {
    "ExecuteTime": {
     "end_time": "2018-10-30T11:01:18.523065Z",
     "start_time": "2018-10-30T11:01:17.111243Z"
    }
   },
   "outputs": [],
   "source": [
    "stop_words = set(stopwords.words('english'))\n",
    "\n",
    "def preprocess_text(sentence):\n",
    "    \n",
    "    sentence = str(sentence)\n",
    "    res = ''\n",
    "    \n",
    "    # replacing all charcters othar than alphabets and numerical\n",
    "    text = re.sub('[^a-zA-Z0-9\\n]', ' ', sentence)\n",
    "    # replacing double space\n",
    "    text = re.sub('\\s+', ' ', sentence)\n",
    "    \n",
    "    text = text.lower()\n",
    "    for word in text.split():\n",
    "        if not word in stop_words:\n",
    "            res = res + ' ' + word \n",
    "    return res"
   ]
  },
  {
   "cell_type": "code",
   "execution_count": 6,
   "metadata": {
    "ExecuteTime": {
     "end_time": "2018-10-30T11:05:19.509905Z",
     "start_time": "2018-10-30T11:01:18.527154Z"
    }
   },
   "outputs": [
    {
     "name": "stdout",
     "output_type": "stream",
     "text": [
      "There is no text description for index:  1109\n",
      "There is no text description for index:  1277\n",
      "There is no text description for index:  1407\n",
      "There is no text description for index:  1639\n",
      "There is no text description for index:  2755\n"
     ]
    }
   ],
   "source": [
    "for i, sentence in enumerate(data['TEXT']):\n",
    "    if type(sentence) == str:\n",
    "        data['TEXT'][i] = preprocess_text(sentence)\n",
    "    else:\n",
    "        print(\"There is no text description for index: \", i)"
   ]
  },
  {
   "cell_type": "code",
   "execution_count": 7,
   "metadata": {
    "ExecuteTime": {
     "end_time": "2018-10-30T11:05:19.523021Z",
     "start_time": "2018-10-30T11:05:19.511490Z"
    }
   },
   "outputs": [
    {
     "data": {
      "text/html": [
       "<div>\n",
       "<style scoped>\n",
       "    .dataframe tbody tr th:only-of-type {\n",
       "        vertical-align: middle;\n",
       "    }\n",
       "\n",
       "    .dataframe tbody tr th {\n",
       "        vertical-align: top;\n",
       "    }\n",
       "\n",
       "    .dataframe thead th {\n",
       "        text-align: right;\n",
       "    }\n",
       "</style>\n",
       "<table border=\"1\" class=\"dataframe\">\n",
       "  <thead>\n",
       "    <tr style=\"text-align: right;\">\n",
       "      <th></th>\n",
       "      <th>ID</th>\n",
       "      <th>Gene</th>\n",
       "      <th>Variation</th>\n",
       "      <th>Class</th>\n",
       "      <th>TEXT</th>\n",
       "    </tr>\n",
       "  </thead>\n",
       "  <tbody>\n",
       "    <tr>\n",
       "      <th>1109</th>\n",
       "      <td>1109</td>\n",
       "      <td>FANCA</td>\n",
       "      <td>S1088F</td>\n",
       "      <td>1</td>\n",
       "      <td>NaN</td>\n",
       "    </tr>\n",
       "    <tr>\n",
       "      <th>1277</th>\n",
       "      <td>1277</td>\n",
       "      <td>ARID5B</td>\n",
       "      <td>Truncating Mutations</td>\n",
       "      <td>1</td>\n",
       "      <td>NaN</td>\n",
       "    </tr>\n",
       "    <tr>\n",
       "      <th>1407</th>\n",
       "      <td>1407</td>\n",
       "      <td>FGFR3</td>\n",
       "      <td>K508M</td>\n",
       "      <td>6</td>\n",
       "      <td>NaN</td>\n",
       "    </tr>\n",
       "    <tr>\n",
       "      <th>1639</th>\n",
       "      <td>1639</td>\n",
       "      <td>FLT1</td>\n",
       "      <td>Amplification</td>\n",
       "      <td>6</td>\n",
       "      <td>NaN</td>\n",
       "    </tr>\n",
       "    <tr>\n",
       "      <th>2755</th>\n",
       "      <td>2755</td>\n",
       "      <td>BRAF</td>\n",
       "      <td>G596C</td>\n",
       "      <td>7</td>\n",
       "      <td>NaN</td>\n",
       "    </tr>\n",
       "  </tbody>\n",
       "</table>\n",
       "</div>"
      ],
      "text/plain": [
       "        ID    Gene             Variation  Class TEXT\n",
       "1109  1109   FANCA                S1088F      1  NaN\n",
       "1277  1277  ARID5B  Truncating Mutations      1  NaN\n",
       "1407  1407   FGFR3                 K508M      6  NaN\n",
       "1639  1639    FLT1         Amplification      6  NaN\n",
       "2755  2755    BRAF                 G596C      7  NaN"
      ]
     },
     "execution_count": 7,
     "metadata": {},
     "output_type": "execute_result"
    }
   ],
   "source": [
    "data[data.isnull().any(axis=1)]"
   ]
  },
  {
   "cell_type": "code",
   "execution_count": 8,
   "metadata": {
    "ExecuteTime": {
     "end_time": "2018-10-30T11:05:21.156022Z",
     "start_time": "2018-10-30T11:05:19.524994Z"
    }
   },
   "outputs": [],
   "source": [
    "data = data.dropna(axis=0)"
   ]
  },
  {
   "cell_type": "markdown",
   "metadata": {},
   "source": [
    "### Train, test and validation split\n",
    "\n",
    "splitting data into train, test and validation in ratio (64:20:16)"
   ]
  },
  {
   "cell_type": "code",
   "execution_count": 9,
   "metadata": {
    "ExecuteTime": {
     "end_time": "2018-10-30T11:05:22.176485Z",
     "start_time": "2018-10-30T11:05:21.158665Z"
    }
   },
   "outputs": [],
   "source": [
    "Y = data['Class']\n",
    "data = data.drop(['Class'], axis=1)"
   ]
  },
  {
   "cell_type": "code",
   "execution_count": 10,
   "metadata": {
    "ExecuteTime": {
     "end_time": "2018-10-30T11:05:23.197911Z",
     "start_time": "2018-10-30T11:05:22.179232Z"
    }
   },
   "outputs": [],
   "source": [
    "from sklearn.model_selection import train_test_split\n",
    "\n",
    "# splitting data frame by maintaining same distribution\n",
    "X_train, test_x, Y_train, test_y = train_test_split(data, Y, stratify=Y, test_size=0.2)\n",
    "train_x, cv_x, train_y, cv_y = train_test_split(X_train, Y_train, stratify=Y_train, test_size=0.2)"
   ]
  },
  {
   "cell_type": "code",
   "execution_count": 11,
   "metadata": {
    "ExecuteTime": {
     "end_time": "2018-10-30T11:05:24.355668Z",
     "start_time": "2018-10-30T11:05:23.200578Z"
    }
   },
   "outputs": [],
   "source": [
    "from sklearn.feature_extraction.text import CountVectorizer\n",
    "\n",
    "bow = CountVectorizer(lowercase=False)\n",
    "onehotGene_train = bow.fit_transform(train_x['Gene'].values)\n",
    "onehotGene_cv = bow.transform(cv_x['Gene'].values)\n",
    "onehotGene_test = bow.transform(test_x['Gene'].values)"
   ]
  },
  {
   "cell_type": "code",
   "execution_count": 12,
   "metadata": {
    "ExecuteTime": {
     "end_time": "2018-10-30T11:05:25.587062Z",
     "start_time": "2018-10-30T11:05:24.358656Z"
    }
   },
   "outputs": [],
   "source": [
    "bow = CountVectorizer(max_features=200, lowercase=False)\n",
    "onehot_variance_train = bow.fit_transform(train_x['Variation'].values)\n",
    "onehot_variance_cv = bow.transform(cv_x['Variation'].values)\n",
    "onehot_variance_test = bow.transform(test_x['Variation'].values)"
   ]
  },
  {
   "cell_type": "code",
   "execution_count": 13,
   "metadata": {
    "ExecuteTime": {
     "end_time": "2018-10-30T11:05:27.235530Z",
     "start_time": "2018-10-30T11:05:25.589886Z"
    }
   },
   "outputs": [],
   "source": [
    "onehot_variance_train = onehot_variance_train.toarray()\n",
    "onehot_variance_cv = onehot_variance_cv.toarray()\n",
    "onehot_variance_test = onehot_variance_test.toarray()"
   ]
  },
  {
   "cell_type": "code",
   "execution_count": 14,
   "metadata": {
    "ExecuteTime": {
     "end_time": "2018-10-30T11:05:43.111398Z",
     "start_time": "2018-10-30T11:05:27.239886Z"
    }
   },
   "outputs": [],
   "source": [
    "# converting text to tfidf values\n",
    "from sklearn.feature_extraction.text import TfidfVectorizer\n",
    "vectorizer = TfidfVectorizer(max_features=1500)\n",
    "tfidf_train = vectorizer.fit_transform(train_x['TEXT'])\n",
    "tfidf_cv = vectorizer.transform(cv_x['TEXT'])\n",
    "tfidf_test = vectorizer.transform(test_x['TEXT'])"
   ]
  },
  {
   "cell_type": "code",
   "execution_count": 15,
   "metadata": {
    "ExecuteTime": {
     "end_time": "2018-10-30T11:05:43.173036Z",
     "start_time": "2018-10-30T11:05:43.113512Z"
    }
   },
   "outputs": [],
   "source": [
    "# joining data\n",
    "from scipy.sparse import hstack\n",
    "\n",
    "bias = np.ones((tfidf_train.shape[0], 1))\n",
    "x_train = hstack((onehotGene_train, onehot_variance_train, tfidf_train, bias))\n",
    "\n",
    "bias = np.ones((tfidf_cv.shape[0], 1))\n",
    "x_cv = hstack((onehotGene_cv, onehot_variance_cv, tfidf_cv, bias))\n",
    "\n",
    "bias = np.ones((tfidf_test.shape[0], 1))\n",
    "x_test = hstack((onehotGene_test, onehot_variance_test, tfidf_test, bias))"
   ]
  },
  {
   "cell_type": "code",
   "execution_count": 16,
   "metadata": {
    "ExecuteTime": {
     "end_time": "2018-10-30T11:05:44.897310Z",
     "start_time": "2018-10-30T11:05:43.175245Z"
    }
   },
   "outputs": [],
   "source": [
    "y_train = np.array(list(train_y))\n",
    "y_cv = np.array(list(cv_y))\n",
    "y_test = np.array(list(test_y))"
   ]
  },
  {
   "cell_type": "markdown",
   "metadata": {},
   "source": [
    "# Machine Learning Models"
   ]
  },
  {
   "cell_type": "markdown",
   "metadata": {},
   "source": [
    "## Logistic Regression"
   ]
  },
  {
   "cell_type": "markdown",
   "metadata": {},
   "source": [
    "### with class balancing"
   ]
  },
  {
   "cell_type": "code",
   "execution_count": 17,
   "metadata": {
    "ExecuteTime": {
     "end_time": "2018-10-30T11:05:56.351604Z",
     "start_time": "2018-10-30T11:05:44.900246Z"
    }
   },
   "outputs": [
    {
     "name": "stdout",
     "output_type": "stream",
     "text": [
      "for alpha = 1e-06\n",
      "Log Loss : 1.08202057650655\n",
      "for alpha = 1e-05\n",
      "Log Loss : 1.0640206557046237\n",
      "for alpha = 0.0001\n",
      "Log Loss : 0.9990230788720578\n",
      "for alpha = 0.001\n",
      "Log Loss : 1.0180659813146962\n",
      "for alpha = 0.01\n",
      "Log Loss : 1.1378043586584758\n",
      "for alpha = 0.1\n",
      "Log Loss : 1.255509042147323\n",
      "for alpha = 1\n",
      "Log Loss : 1.4663611151281057\n",
      "for alpha = 10\n",
      "Log Loss : 1.546204981530604\n",
      "for alpha = 100\n",
      "Log Loss : 1.5553276213116385\n"
     ]
    },
    {
     "data": {
      "image/png": "[encoded data removed]",
      "text/plain": [
       "<Figure size 432x288 with 1 Axes>"
      ]
     },
     "metadata": {
      "needs_background": "light"
     },
     "output_type": "display_data"
    }
   ],
   "source": [
    "from sklearn.linear_model import SGDClassifier\n",
    "from sklearn.calibration import CalibratedClassifierCV\n",
    "from sklearn.metrics import log_loss\n",
    "\n",
    "alpha = [10 ** x for x in range(-6, 3)]\n",
    "cv_log_error_array = []\n",
    "for i in alpha:\n",
    "    print(\"for alpha =\", i)\n",
    "    clf = SGDClassifier(class_weight='balanced', alpha=i, penalty='l2', loss='log',\n",
    "                        random_state=0)\n",
    "    clf.fit(x_train, y_train)\n",
    "    sig_clf = CalibratedClassifierCV(clf, method=\"sigmoid\")\n",
    "    sig_clf.fit(x_train, y_train)\n",
    "    sig_clf_probs = sig_clf.predict_proba(x_cv)\n",
    "    cv_log_error_array.append(log_loss(y_cv, sig_clf_probs, labels=clf.classes_, eps=1e-15))\n",
    "    # to avoid rounding error while multiplying probabilites we use log-probability estimates\n",
    "    print(\"Log Loss :\",log_loss(y_cv, sig_clf_probs))\n",
    "    \n",
    "fig, ax = plt.subplots()\n",
    "ax.plot(alpha, cv_log_error_array,c='g')\n",
    "for i, txt in enumerate(np.round(cv_log_error_array,3)):\n",
    "    ax.annotate((alpha[i],str(txt)), (alpha[i],cv_log_error_array[i]))\n",
    "plt.grid()\n",
    "plt.title(\"Cross Validation Error for each alpha\")\n",
    "plt.xlabel(\"Alpha i's\")\n",
    "plt.ylabel(\"Error measure\")\n",
    "plt.show()"
   ]
  },
  {
   "cell_type": "code",
   "execution_count": 18,
   "metadata": {
    "ExecuteTime": {
     "end_time": "2018-10-30T11:15:02.043098Z",
     "start_time": "2018-10-30T11:15:02.033810Z"
    }
   },
   "outputs": [],
   "source": [
    "loss_main = 0.9990230788720578"
   ]
  },
  {
   "cell_type": "code",
   "execution_count": 19,
   "metadata": {
    "ExecuteTime": {
     "end_time": "2018-10-30T11:19:04.098744Z",
     "start_time": "2018-10-30T11:15:02.774025Z"
    }
   },
   "outputs": [
    {
     "name": "stderr",
     "output_type": "stream",
     "text": [
      " 50%|█████     | 101/200 [01:59<01:59,  1.21s/it]"
     ]
    },
    {
     "name": "stdout",
     "output_type": "stream",
     "text": [
      "New loss is:  0.9977311783324515\n"
     ]
    },
    {
     "name": "stderr",
     "output_type": "stream",
     "text": [
      " 99%|█████████▉| 198/200 [03:59<00:02,  1.28s/it]"
     ]
    }
   ],
   "source": [
    "removed_indices = []\n",
    "# Backward selection :: dropping performence dimnishing features from variance\n",
    "for i in tqdm(range(onehot_variance_train.shape[1])):\n",
    "    \n",
    "    bias = np.ones((onehot_variance_train.shape[0], 1))\n",
    "    x_train = hstack((onehotGene_train, \n",
    "                      np.delete(onehot_variance_train, i, axis=1), \n",
    "                      tfidf_train, bias))\n",
    "\n",
    "    bias = np.ones((onehot_variance_cv.shape[0], 1))\n",
    "    x_cv = hstack((onehotGene_cv, \n",
    "                   np.delete(onehot_variance_cv, i, axis=1), \n",
    "                   tfidf_cv, bias))\n",
    "    \n",
    "    clf = SGDClassifier(class_weight='balanced', alpha=0.0001, penalty='l2', loss='log',\n",
    "                        random_state=0)\n",
    "    clf.fit(x_train, y_train)\n",
    "    sig_clf = CalibratedClassifierCV(clf, method=\"sigmoid\")\n",
    "    sig_clf.fit(x_train, y_train)\n",
    "    sig_clf_probs = sig_clf.predict_proba(x_cv)\n",
    "    # to avoid rounding error while multiplying probabilites we use log-probability estimates\n",
    "    loss = log_loss(y_cv, sig_clf_probs)\n",
    "    \n",
    "    if loss_main - loss >= 0.001:\n",
    "        \n",
    "        print(\"New loss is: \", loss)\n",
    "        loss_main = loss\n",
    "        \n",
    "        onehot_variance_train = np.delete(onehot_variance_train, i, axis=1)\n",
    "        onehot_variance_cv = np.delete(onehot_variance_cv, i, axis=1)\n",
    "        \n",
    "        removed_indices.append(i)\n",
    "    \n",
    "    if i == onehot_variance_train.shape[1] - 1:\n",
    "        break"
   ]
  },
  {
   "cell_type": "code",
   "execution_count": 21,
   "metadata": {
    "ExecuteTime": {
     "end_time": "2018-10-30T11:21:27.272203Z",
     "start_time": "2018-10-30T11:21:27.260949Z"
    }
   },
   "outputs": [
    {
     "data": {
      "text/plain": [
       "(664, 200)"
      ]
     },
     "execution_count": 21,
     "metadata": {},
     "output_type": "execute_result"
    }
   ],
   "source": [
    "onehot_variance_test.shape"
   ]
  },
  {
   "cell_type": "code",
   "execution_count": 22,
   "metadata": {
    "ExecuteTime": {
     "end_time": "2018-10-30T11:21:28.638440Z",
     "start_time": "2018-10-30T11:21:28.634265Z"
    }
   },
   "outputs": [],
   "source": [
    "for i in removed_indices:\n",
    "    onehot_variance_test = np.delete(onehot_variance_test, i, axis=1)"
   ]
  },
  {
   "cell_type": "code",
   "execution_count": 23,
   "metadata": {
    "ExecuteTime": {
     "end_time": "2018-10-30T11:21:29.477680Z",
     "start_time": "2018-10-30T11:21:29.378671Z"
    }
   },
   "outputs": [
    {
     "data": {
      "text/plain": [
       "(664, 199)"
      ]
     },
     "execution_count": 23,
     "metadata": {},
     "output_type": "execute_result"
    }
   ],
   "source": [
    "onehot_variance_test.shape"
   ]
  },
  {
   "cell_type": "code",
   "execution_count": 24,
   "metadata": {
    "ExecuteTime": {
     "end_time": "2018-10-30T11:21:36.657154Z",
     "start_time": "2018-10-30T11:21:36.578575Z"
    }
   },
   "outputs": [],
   "source": [
    "bias = np.ones((tfidf_train.shape[0], 1))\n",
    "x_train = hstack((onehotGene_train, onehot_variance_train, tfidf_train, bias))\n",
    "\n",
    "bias = np.ones((tfidf_cv.shape[0], 1))\n",
    "x_cv = hstack((onehotGene_cv, onehot_variance_cv, tfidf_cv, bias))\n",
    "\n",
    "bias = np.ones((tfidf_test.shape[0], 1))\n",
    "x_test = hstack((onehotGene_test, onehot_variance_test, tfidf_test, bias))"
   ]
  },
  {
   "cell_type": "code",
   "execution_count": 25,
   "metadata": {
    "ExecuteTime": {
     "end_time": "2018-10-30T11:21:38.837698Z",
     "start_time": "2018-10-30T11:21:38.821896Z"
    }
   },
   "outputs": [],
   "source": [
    "from sklearn.metrics import confusion_matrix\n",
    "\n",
    "# This function plots the confusion matrices given y_i, y_i_hat.\n",
    "def plot_confusion_matrix(test_y, predict_y):\n",
    "    C = confusion_matrix(test_y, predict_y)\n",
    "    # C = 9,9 matrix, each cell (i,j) represents number of points of class i are predicted class j\n",
    "    \n",
    "    A =(((C.T)/(C.sum(axis=1))).T)\n",
    "    #divid each element of the confusion matrix with the sum of elements in that column\n",
    "    \n",
    "    # C = [[1, 2],\n",
    "    #     [3, 4]]\n",
    "    # C.T = [[1, 3],\n",
    "    #        [2, 4]]\n",
    "    # C.sum(axis = 1)  axis=0 corresonds to columns and axis=1 corresponds to rows in two diamensional array\n",
    "    # C.sum(axix =1) = [[3, 7]]\n",
    "    # ((C.T)/(C.sum(axis=1))) = [[1/3, 3/7]\n",
    "    #                           [2/3, 4/7]]\n",
    "\n",
    "    # ((C.T)/(C.sum(axis=1))).T = [[1/3, 2/3]\n",
    "    #                           [3/7, 4/7]]\n",
    "    # sum of row elements = 1\n",
    "    \n",
    "    B =(C/C.sum(axis=0))\n",
    "    #divid each element of the confusion matrix with the sum of elements in that row\n",
    "    # C = [[1, 2],\n",
    "    #     [3, 4]]\n",
    "    # C.sum(axis = 0)  axis=0 corresonds to columns and axis=1 corresponds to rows in two diamensional array\n",
    "    # C.sum(axix =0) = [[4, 6]]\n",
    "    # (C/C.sum(axis=0)) = [[1/4, 2/6],\n",
    "    #                      [3/4, 4/6]] \n",
    "    \n",
    "    labels = [1,2,3,4,5,6,7,8,9]\n",
    "    # representing A in heatmap format\n",
    "    print(\"-\"*20, \"Confusion matrix\", \"-\"*20)\n",
    "    plt.figure(figsize=(20,7))\n",
    "    sns.heatmap(C, annot=True, cmap=\"YlGnBu\", fmt=\".3f\", xticklabels=labels, yticklabels=labels)\n",
    "    plt.xlabel('Predicted Class')\n",
    "    plt.ylabel('Original Class')\n",
    "    plt.show()\n",
    "\n",
    "    print(\"-\"*20, \"Precision matrix (Columm Sum=1)\", \"-\"*20)\n",
    "    plt.figure(figsize=(20,7))\n",
    "    sns.heatmap(B, annot=True, cmap=\"YlGnBu\", fmt=\".3f\", xticklabels=labels, yticklabels=labels)\n",
    "    plt.xlabel('Predicted Class')\n",
    "    plt.ylabel('Original Class')\n",
    "    plt.show()\n",
    "    \n",
    "    # representing B in heatmap format\n",
    "    print(\"-\"*20, \"Recall matrix (Row sum=1)\", \"-\"*20)\n",
    "    plt.figure(figsize=(20,7))\n",
    "    sns.heatmap(A, annot=True, cmap=\"YlGnBu\", fmt=\".3f\", xticklabels=labels, yticklabels=labels)\n",
    "    plt.xlabel('Predicted Class')\n",
    "    plt.ylabel('Original Class')\n",
    "    plt.show()"
   ]
  },
  {
   "cell_type": "code",
   "execution_count": 26,
   "metadata": {
    "ExecuteTime": {
     "end_time": "2018-10-30T11:21:48.312139Z",
     "start_time": "2018-10-30T11:21:43.980812Z"
    }
   },
   "outputs": [
    {
     "name": "stdout",
     "output_type": "stream",
     "text": [
      "Log Loss : 1.0393073430552604\n",
      "Log loss (train) on the stacking classifier : 0.7329711034241039\n",
      "Log loss (CV) on the stacking classifier : 0.9977311783324515\n",
      "Log loss (test) on the stacking classifier : 1.0393073430552604\n",
      "Number of missclassified point : 0.3689759036144578\n",
      "-------------------- Confusion matrix --------------------\n"
     ]
    },
    {
     "data": {
      "image/png": "[encoded data removed]",
      "text/plain": [
       "<Figure size 1440x504 with 2 Axes>"
      ]
     },
     "metadata": {
      "needs_background": "light"
     },
     "output_type": "display_data"
    },
    {
     "name": "stdout",
     "output_type": "stream",
     "text": [
      "-------------------- Precision matrix (Columm Sum=1) --------------------\n"
     ]
    },
    {
     "data": {
      "image/png": "[encoded data removed]",
      "text/plain": [
       "<Figure size 1440x504 with 2 Axes>"
      ]
     },
     "metadata": {
      "needs_background": "light"
     },
     "output_type": "display_data"
    },
    {
     "name": "stdout",
     "output_type": "stream",
     "text": [
      "-------------------- Recall matrix (Row sum=1) --------------------\n"
     ]
    },
    {
     "data": {
      "image/png": "[encoded data removed]",
      "text/plain": [
       "<Figure size 1440x504 with 2 Axes>"
      ]
     },
     "metadata": {
      "needs_background": "light"
     },
     "output_type": "display_data"
    }
   ],
   "source": [
    "# final model\n",
    "clf = SGDClassifier(class_weight='balanced', alpha=0.0001, penalty='l2', loss='log',\n",
    "                    random_state=0)\n",
    "clf.fit(x_train, y_train)\n",
    "sig_clf = CalibratedClassifierCV(clf, method=\"sigmoid\")\n",
    "sig_clf.fit(x_train, y_train)\n",
    "sig_clf_probs = sig_clf.predict_proba(x_test)\n",
    "# to avoid rounding error while multiplying probabilites we use log-probability estimates\n",
    "print(\"Log Loss :\",log_loss(y_test, sig_clf_probs))\n",
    "\n",
    "log_error1 = log_loss(y_train, sig_clf.predict_proba(x_train))\n",
    "print(\"Log loss (train) on the stacking classifier :\",log_error1)\n",
    "\n",
    "log_error2 = log_loss(y_cv, sig_clf.predict_proba(x_cv))\n",
    "print(\"Log loss (CV) on the stacking classifier :\",log_error2)\n",
    "\n",
    "log_error3 = log_loss(y_test, sig_clf.predict_proba(x_test))\n",
    "print(\"Log loss (test) on the stacking classifier :\",log_error3)\n",
    "\n",
    "num_misclassified = np.count_nonzero((sig_clf.predict(x_test)- y_test))/y_test.shape[0]\n",
    "print(\"Number of missclassified point :\", num_misclassified)\n",
    "plot_confusion_matrix(test_y=y_test, predict_y=sig_clf.predict(x_test))"
   ]
  },
  {
   "cell_type": "markdown",
   "metadata": {},
   "source": [
    "Feature Importance"
   ]
  },
  {
   "cell_type": "code",
   "execution_count": 55,
   "metadata": {
    "ExecuteTime": {
     "end_time": "2018-10-30T11:45:09.474941Z",
     "start_time": "2018-10-30T11:45:09.465410Z"
    }
   },
   "outputs": [],
   "source": [
    "# this function will be used just for naive bayes\n",
    "# for the given indices, we will print the name of the features\n",
    "# and we will check whether the feature present in the test point text or not\n",
    "def get_impfeature_names(indices, text, gene, var, no_features):\n",
    "    gene_count_vec = CountVectorizer()\n",
    "    var_count_vec = CountVectorizer(max_features=200, lowercase=False)\n",
    "    text_count_vec = TfidfVectorizer(max_features=1500)\n",
    "    \n",
    "    gene_vec = gene_count_vec.fit(train_x['Gene'].values)\n",
    "    var_vec  = var_count_vec.fit(train_x['Variation'].values)\n",
    "    text_vec = text_count_vec.fit(train_x['TEXT'])\n",
    "    \n",
    "    fea1_len = len(gene_vec.get_feature_names())\n",
    "    fea2_len = len(var_count_vec.get_feature_names())\n",
    "    \n",
    "    word_present = 0\n",
    "    for i,v in enumerate(indices):\n",
    "        if (v < fea1_len):\n",
    "            word = gene_vec.get_feature_names()[v]\n",
    "            yes_no = True if word == gene else False\n",
    "            if yes_no:\n",
    "                word_present += 1\n",
    "                print(i, \"Gene feature [{}] present in test data point [{}]\".format(word,yes_no))\n",
    "        elif (v < fea1_len+fea2_len):\n",
    "            word = var_vec.get_feature_names()[v-(fea1_len)]\n",
    "            yes_no = True if word == var else False\n",
    "            if yes_no:\n",
    "                word_present += 1\n",
    "                print(i, \"variation feature [{}] present in test data point [{}]\".format(word,yes_no))\n",
    "        else:\n",
    "            word = text_vec.get_feature_names()[v-(fea1_len+fea2_len)]\n",
    "            yes_no = True if word in text.split() else False\n",
    "            if yes_no:\n",
    "                word_present += 1\n",
    "                print(i, \"Text feature [{}] present in test data point [{}]\".format(word,yes_no))\n",
    "\n",
    "    print(\"Out of the top \",no_features,\" features \", word_present, \"are present in query point\")"
   ]
  },
  {
   "cell_type": "markdown",
   "metadata": {
    "ExecuteTime": {
     "end_time": "2018-10-30T11:19:04.197679Z",
     "start_time": "2018-10-30T11:19:04.190972Z"
    }
   },
   "source": [
    "#### Correctly Classified point"
   ]
  },
  {
   "cell_type": "code",
   "execution_count": 58,
   "metadata": {
    "ExecuteTime": {
     "end_time": "2018-10-30T11:46:16.773885Z",
     "start_time": "2018-10-30T11:46:05.414538Z"
    },
    "scrolled": false
   },
   "outputs": [
    {
     "name": "stdout",
     "output_type": "stream",
     "text": [
      "Predicted Class : 7\n",
      "Predicted Class Probabilities: [[0.0069 0.1536 0.0022 0.0135 0.0229 0.0032 0.7908 0.0029 0.004 ]]\n",
      "Actual Class : 7\n",
      "--------------------------------------------------\n",
      "2 Text feature [isolated] present in test data point [True]\n",
      "8 Text feature [thus] present in test data point [True]\n",
      "9 Text feature [activating] present in test data point [True]\n",
      "12 Text feature [cell] present in test data point [True]\n",
      "14 Text feature [signal] present in test data point [True]\n",
      "15 Text feature [catalytic] present in test data point [True]\n",
      "17 Text feature [mutagenesis] present in test data point [True]\n",
      "20 Text feature [next] present in test data point [True]\n",
      "32 Text feature [luciferase] present in test data point [True]\n",
      "34 Text feature [standard] present in test data point [True]\n",
      "35 Text feature [critical] present in test data point [True]\n",
      "39 Text feature [mutant] present in test data point [True]\n",
      "42 Text feature [hematopoietic] present in test data point [True]\n",
      "45 Text feature [expressed] present in test data point [True]\n",
      "53 Text feature [coding] present in test data point [True]\n",
      "60 Text feature [inhibition] present in test data point [True]\n",
      "61 Text feature [agreement] present in test data point [True]\n",
      "65 Text feature [initial] present in test data point [True]\n",
      "66 Text feature [often] present in test data point [True]\n",
      "69 Text feature [gfp] present in test data point [True]\n",
      "90 Text feature [transformed] present in test data point [True]\n",
      "96 Text feature [cancer] present in test data point [True]\n",
      "105 Text feature [intracellular] present in test data point [True]\n",
      "129 Text feature [increase] present in test data point [True]\n",
      "130 Text feature [hydrogen] present in test data point [True]\n",
      "133 Text feature [line] present in test data point [True]\n",
      "137 Text feature [box] present in test data point [True]\n",
      "142 Text feature [results] present in test data point [True]\n",
      "160 Text feature [transformation] present in test data point [True]\n",
      "174 Text feature [little] present in test data point [True]\n",
      "178 Text feature [less] present in test data point [True]\n",
      "182 Text feature [using] present in test data point [True]\n",
      "185 Text feature [signaling] present in test data point [True]\n",
      "189 Text feature [min] present in test data point [True]\n",
      "197 Text feature [level] present in test data point [True]\n",
      "198 Text feature [positions] present in test data point [True]\n",
      "199 Text feature [consistent] present in test data point [True]\n",
      "Out of the top  200  features  37 are present in query point\n"
     ]
    }
   ],
   "source": [
    "# from tabulate import tabulate\n",
    "clf = SGDClassifier(class_weight='balanced', \n",
    "                    alpha=0.0001, penalty='l2', loss='log', random_state=42)\n",
    "clf.fit(x_train, y_train)\n",
    "test_point_index = 32\n",
    "no_feature = 200\n",
    "predicted_cls = sig_clf.predict(x_train.tocsr()[test_point_index])\n",
    "print(\"Predicted Class :\", predicted_cls[0])\n",
    "print(\"Predicted Class Probabilities:\", \n",
    "      np.round(sig_clf.predict_proba(x_train.tocsr()[test_point_index]),4))\n",
    "print(\"Actual Class :\", y_test[test_point_index])\n",
    "indices = np.argsort(-clf.coef_)[predicted_cls-1][:,:no_feature]\n",
    "print(\"-\"*50)\n",
    "get_impfeature_names(indices[0], \n",
    "                     test_x['TEXT'].iloc[test_point_index],\n",
    "                     test_x['Gene'].iloc[test_point_index],\n",
    "                     test_x['Variation'].iloc[test_point_index], no_feature)"
   ]
  },
  {
   "cell_type": "markdown",
   "metadata": {
    "ExecuteTime": {
     "start_time": "2018-10-30T11:16:55.127Z"
    }
   },
   "source": [
    "#### Incorrectly Classified point"
   ]
  },
  {
   "cell_type": "code",
   "execution_count": 59,
   "metadata": {
    "ExecuteTime": {
     "end_time": "2018-10-30T11:47:01.246035Z",
     "start_time": "2018-10-30T11:46:49.164489Z"
    },
    "scrolled": false
   },
   "outputs": [
    {
     "name": "stdout",
     "output_type": "stream",
     "text": [
      "Predicted Class : 3\n",
      "Predicted Class Probabilities: [[0.0781 0.0123 0.344  0.2144 0.1574 0.1755 0.0142 0.0028 0.0015]]\n",
      "Actual Class : 1\n",
      "--------------------------------------------------\n",
      "5 Text feature [differentiation] present in test data point [True]\n",
      "7 Text feature [msi] present in test data point [True]\n",
      "8 Text feature [recombinant] present in test data point [True]\n",
      "15 Text feature [pcr] present in test data point [True]\n",
      "16 Text feature [erbb3] present in test data point [True]\n",
      "17 Text feature [mutational] present in test data point [True]\n",
      "21 Text feature [background] present in test data point [True]\n",
      "24 Text feature [values] present in test data point [True]\n",
      "27 Text feature [variant] present in test data point [True]\n",
      "29 Text feature [remains] present in test data point [True]\n",
      "30 Text feature [suppressor] present in test data point [True]\n",
      "34 Text feature [negative] present in test data point [True]\n",
      "36 Text feature [days] present in test data point [True]\n",
      "39 Text feature [truncating] present in test data point [True]\n",
      "40 Text feature [germline] present in test data point [True]\n",
      "41 Text feature [mutant] present in test data point [True]\n",
      "43 Text feature [akt1] present in test data point [True]\n",
      "47 Text feature [single] present in test data point [True]\n",
      "48 Text feature [alignment] present in test data point [True]\n",
      "49 Text feature [pik3ca] present in test data point [True]\n",
      "55 Text feature [dna] present in test data point [True]\n",
      "56 Text feature [tp53] present in test data point [True]\n",
      "61 Text feature [diverse] present in test data point [True]\n",
      "63 Text feature [residue] present in test data point [True]\n",
      "65 Text feature [estimated] present in test data point [True]\n",
      "66 Text feature [mtor] present in test data point [True]\n",
      "67 Text feature [lacking] present in test data point [True]\n",
      "74 Text feature [individual] present in test data point [True]\n",
      "75 Text feature [substitution] present in test data point [True]\n",
      "76 Text feature [melanoma] present in test data point [True]\n",
      "78 Text feature [cases] present in test data point [True]\n",
      "82 Text feature [function] present in test data point [True]\n",
      "84 Text feature [consistent] present in test data point [True]\n",
      "85 Text feature [carried] present in test data point [True]\n",
      "87 Text feature [particularly] present in test data point [True]\n",
      "93 Text feature [sensitivity] present in test data point [True]\n",
      "94 Text feature [efficacy] present in test data point [True]\n",
      "99 Text feature [chronic] present in test data point [True]\n",
      "102 Text feature [receptor] present in test data point [True]\n",
      "103 Text feature [assay] present in test data point [True]\n",
      "109 Text feature [reduced] present in test data point [True]\n",
      "114 Text feature [driven] present in test data point [True]\n",
      "116 Text feature [standard] present in test data point [True]\n",
      "119 Text feature [allele] present in test data point [True]\n",
      "120 Text feature [together] present in test data point [True]\n",
      "121 Text feature [regulatory] present in test data point [True]\n",
      "122 Text feature [corresponding] present in test data point [True]\n",
      "123 Text feature [confirmed] present in test data point [True]\n",
      "124 Text feature [blot] present in test data point [True]\n",
      "129 Text feature [one] present in test data point [True]\n",
      "130 Text feature [constructs] present in test data point [True]\n",
      "133 Text feature [control] present in test data point [True]\n",
      "135 Text feature [cancers] present in test data point [True]\n",
      "137 Text feature [statistical] present in test data point [True]\n",
      "139 Text feature [kit] present in test data point [True]\n",
      "142 Text feature [indicate] present in test data point [True]\n",
      "144 Text feature [clinically] present in test data point [True]\n",
      "145 Text feature [analysis] present in test data point [True]\n",
      "146 Text feature [signal] present in test data point [True]\n",
      "147 Text feature [well] present in test data point [True]\n",
      "148 Text feature [left] present in test data point [True]\n",
      "149 Text feature [result] present in test data point [True]\n",
      "150 Text feature [analyses] present in test data point [True]\n",
      "154 Text feature [genotype] present in test data point [True]\n",
      "155 Text feature [yet] present in test data point [True]\n",
      "159 Text feature [present] present in test data point [True]\n",
      "160 Text feature [expressed] present in test data point [True]\n",
      "162 Text feature [foci] present in test data point [True]\n",
      "163 Text feature [indeed] present in test data point [True]\n",
      "164 Text feature [vitro] present in test data point [True]\n",
      "166 Text feature [egfr] present in test data point [True]\n",
      "167 Text feature [transfected] present in test data point [True]\n",
      "168 Text feature [human] present in test data point [True]\n",
      "173 Text feature [sequencing] present in test data point [True]\n",
      "175 Text feature [formation] present in test data point [True]\n",
      "176 Text feature [considered] present in test data point [True]\n",
      "177 Text feature [inactivation] present in test data point [True]\n",
      "178 Text feature [volume] present in test data point [True]\n",
      "179 Text feature [end] present in test data point [True]\n",
      "184 Text feature [identification] present in test data point [True]\n",
      "187 Text feature [phase] present in test data point [True]\n",
      "190 Text feature [screening] present in test data point [True]\n",
      "191 Text feature [experimental] present in test data point [True]\n",
      "193 Text feature [poor] present in test data point [True]\n",
      "194 Text feature [consequences] present in test data point [True]\n",
      "195 Text feature [targeted] present in test data point [True]\n",
      "198 Text feature [difference] present in test data point [True]\n",
      "199 Text feature [base] present in test data point [True]\n",
      "Out of the top  200  features  88 are present in query point\n"
     ]
    }
   ],
   "source": [
    "# from tabulate import tabulate\n",
    "clf = SGDClassifier(class_weight='balanced', \n",
    "                    alpha=0.0001, penalty='l2', loss='log', random_state=42)\n",
    "clf.fit(x_train, y_train)\n",
    "test_point_index = 45\n",
    "no_feature = 200\n",
    "predicted_cls = sig_clf.predict(x_train.tocsr()[test_point_index])\n",
    "print(\"Predicted Class :\", predicted_cls[0])\n",
    "print(\"Predicted Class Probabilities:\", \n",
    "      np.round(sig_clf.predict_proba(x_train.tocsr()[test_point_index]),4))\n",
    "print(\"Actual Class :\", y_test[test_point_index])\n",
    "indices = np.argsort(-clf.coef_)[predicted_cls-1][:,:no_feature]\n",
    "print(\"-\"*50)\n",
    "get_impfeature_names(indices[0], \n",
    "                     test_x['TEXT'].iloc[test_point_index],\n",
    "                     test_x['Gene'].iloc[test_point_index],\n",
    "                     test_x['Variation'].iloc[test_point_index], no_feature)"
   ]
  },
  {
   "cell_type": "markdown",
   "metadata": {},
   "source": [
    "# Conclusion"
   ]
  },
  {
   "cell_type": "markdown",
   "metadata": {},
   "source": [
    "- Steps followed:\n",
    "    * Considered most important 300 values in variance column.\n",
    "    * Considered most important 2000 words from text.\n",
    "    * Added Bias."
   ]
  },
  {
   "cell_type": "markdown",
   "metadata": {},
   "source": [
    "* Obtained 0.997 log error for cv dataset with alpha value 0.0001.\n",
    "* Obtained 1.03 log error for test dataset with alpha value 0.0001."
   ]
  }
 ],
 "metadata": {
  "kernelspec": {
   "display_name": "Python 3",
   "language": "python",
   "name": "python3"
  },
  "language_info": {
   "codemirror_mode": {
    "name": "ipython",
    "version": 3
   },
   "file_extension": ".py",
   "mimetype": "text/x-python",
   "name": "python",
   "nbconvert_exporter": "python",
   "pygments_lexer": "ipython3",
   "version": "3.6.6"
  }
 },
 "nbformat": 4,
 "nbformat_minor": 2
}
